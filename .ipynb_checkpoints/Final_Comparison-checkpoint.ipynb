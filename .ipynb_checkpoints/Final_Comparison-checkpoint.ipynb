{
 "cells": [
  {
   "cell_type": "markdown",
   "id": "c87aefe6-5aff-470d-a067-41bad9125a9e",
   "metadata": {},
   "source": [
    "# ***Comparison Table (RMSE & MAE)***"
   ]
  },
  {
   "cell_type": "code",
   "execution_count": 2,
   "id": "8ad70063-452d-433a-b99d-3afd01d2cc9c",
   "metadata": {},
   "outputs": [
    {
     "data": {
      "text/html": [
       "<div>\n",
       "<style scoped>\n",
       "    .dataframe tbody tr th:only-of-type {\n",
       "        vertical-align: middle;\n",
       "    }\n",
       "\n",
       "    .dataframe tbody tr th {\n",
       "        vertical-align: top;\n",
       "    }\n",
       "\n",
       "    .dataframe thead th {\n",
       "        text-align: right;\n",
       "    }\n",
       "</style>\n",
       "<table border=\"1\" class=\"dataframe\">\n",
       "  <thead>\n",
       "    <tr style=\"text-align: right;\">\n",
       "      <th></th>\n",
       "      <th>RMSE</th>\n",
       "      <th>MAE</th>\n",
       "    </tr>\n",
       "  </thead>\n",
       "  <tbody>\n",
       "    <tr>\n",
       "      <th>Decision Tree</th>\n",
       "      <td>4654.416119</td>\n",
       "      <td>2732.195085</td>\n",
       "    </tr>\n",
       "    <tr>\n",
       "      <th>Random Forest</th>\n",
       "      <td>4774.051800</td>\n",
       "      <td>2705.848231</td>\n",
       "    </tr>\n",
       "    <tr>\n",
       "      <th>Polynomial Regression</th>\n",
       "      <td>4801.234050</td>\n",
       "      <td>2903.137526</td>\n",
       "    </tr>\n",
       "    <tr>\n",
       "      <th>KNN Regression</th>\n",
       "      <td>5395.006664</td>\n",
       "      <td>3369.481408</td>\n",
       "    </tr>\n",
       "    <tr>\n",
       "      <th>Linear Regression</th>\n",
       "      <td>5803.762514</td>\n",
       "      <td>3987.962848</td>\n",
       "    </tr>\n",
       "    <tr>\n",
       "      <th>Ridge Regression</th>\n",
       "      <td>5805.960098</td>\n",
       "      <td>5805.960098</td>\n",
       "    </tr>\n",
       "    <tr>\n",
       "      <th>ElasticNet</th>\n",
       "      <td>5813.200838</td>\n",
       "      <td>3995.294570</td>\n",
       "    </tr>\n",
       "    <tr>\n",
       "      <th>Lasso Regression</th>\n",
       "      <td>5817.427519</td>\n",
       "      <td>3998.310203</td>\n",
       "    </tr>\n",
       "    <tr>\n",
       "      <th>SVR</th>\n",
       "      <td>11865.383643</td>\n",
       "      <td>7418.021381</td>\n",
       "    </tr>\n",
       "  </tbody>\n",
       "</table>\n",
       "</div>"
      ],
      "text/plain": [
       "                               RMSE          MAE\n",
       "Decision Tree           4654.416119  2732.195085\n",
       "Random Forest           4774.051800  2705.848231\n",
       "Polynomial Regression   4801.234050  2903.137526\n",
       "KNN Regression          5395.006664  3369.481408\n",
       "Linear Regression       5803.762514  3987.962848\n",
       "Ridge Regression        5805.960098  5805.960098\n",
       "ElasticNet              5813.200838  3995.294570\n",
       "Lasso Regression        5817.427519  3998.310203\n",
       "SVR                    11865.383643  7418.021381"
      ]
     },
     "execution_count": 2,
     "metadata": {},
     "output_type": "execute_result"
    }
   ],
   "source": [
    "import numpy as np \n",
    "import pandas as pd \n",
    "import matplotlib.pyplot as plt \n",
    "import seaborn as sns\n",
    "\n",
    "results_df = pd.read_csv(\"./Data/model_metrics.csv\", index_col=0)\n",
    "results_df"
   ]
  },
  {
   "cell_type": "code",
   "execution_count": 3,
   "id": "9285714c-6fa9-477e-a5b6-5503c0ece2d2",
   "metadata": {},
   "outputs": [
    {
     "data": {
      "text/html": [
       "<div>\n",
       "<style scoped>\n",
       "    .dataframe tbody tr th:only-of-type {\n",
       "        vertical-align: middle;\n",
       "    }\n",
       "\n",
       "    .dataframe tbody tr th {\n",
       "        vertical-align: top;\n",
       "    }\n",
       "\n",
       "    .dataframe thead th {\n",
       "        text-align: right;\n",
       "    }\n",
       "</style>\n",
       "<table border=\"1\" class=\"dataframe\">\n",
       "  <thead>\n",
       "    <tr style=\"text-align: right;\">\n",
       "      <th></th>\n",
       "      <th>RMSE</th>\n",
       "      <th>MAE</th>\n",
       "      <th>RMSE Rank</th>\n",
       "      <th>MAE Rank</th>\n",
       "    </tr>\n",
       "  </thead>\n",
       "  <tbody>\n",
       "    <tr>\n",
       "      <th>Decision Tree</th>\n",
       "      <td>4654.416119</td>\n",
       "      <td>2732.195085</td>\n",
       "      <td>1.0</td>\n",
       "      <td>2.0</td>\n",
       "    </tr>\n",
       "    <tr>\n",
       "      <th>Random Forest</th>\n",
       "      <td>4774.051800</td>\n",
       "      <td>2705.848231</td>\n",
       "      <td>2.0</td>\n",
       "      <td>1.0</td>\n",
       "    </tr>\n",
       "    <tr>\n",
       "      <th>Polynomial Regression</th>\n",
       "      <td>4801.234050</td>\n",
       "      <td>2903.137526</td>\n",
       "      <td>3.0</td>\n",
       "      <td>3.0</td>\n",
       "    </tr>\n",
       "    <tr>\n",
       "      <th>KNN Regression</th>\n",
       "      <td>5395.006664</td>\n",
       "      <td>3369.481408</td>\n",
       "      <td>4.0</td>\n",
       "      <td>4.0</td>\n",
       "    </tr>\n",
       "    <tr>\n",
       "      <th>Linear Regression</th>\n",
       "      <td>5803.762514</td>\n",
       "      <td>3987.962848</td>\n",
       "      <td>5.0</td>\n",
       "      <td>5.0</td>\n",
       "    </tr>\n",
       "    <tr>\n",
       "      <th>Ridge Regression</th>\n",
       "      <td>5805.960098</td>\n",
       "      <td>5805.960098</td>\n",
       "      <td>6.0</td>\n",
       "      <td>8.0</td>\n",
       "    </tr>\n",
       "    <tr>\n",
       "      <th>ElasticNet</th>\n",
       "      <td>5813.200838</td>\n",
       "      <td>3995.294570</td>\n",
       "      <td>7.0</td>\n",
       "      <td>6.0</td>\n",
       "    </tr>\n",
       "    <tr>\n",
       "      <th>Lasso Regression</th>\n",
       "      <td>5817.427519</td>\n",
       "      <td>3998.310203</td>\n",
       "      <td>8.0</td>\n",
       "      <td>7.0</td>\n",
       "    </tr>\n",
       "    <tr>\n",
       "      <th>SVR</th>\n",
       "      <td>11865.383643</td>\n",
       "      <td>7418.021381</td>\n",
       "      <td>9.0</td>\n",
       "      <td>9.0</td>\n",
       "    </tr>\n",
       "  </tbody>\n",
       "</table>\n",
       "</div>"
      ],
      "text/plain": [
       "                               RMSE          MAE  RMSE Rank  MAE Rank\n",
       "Decision Tree           4654.416119  2732.195085        1.0       2.0\n",
       "Random Forest           4774.051800  2705.848231        2.0       1.0\n",
       "Polynomial Regression   4801.234050  2903.137526        3.0       3.0\n",
       "KNN Regression          5395.006664  3369.481408        4.0       4.0\n",
       "Linear Regression       5803.762514  3987.962848        5.0       5.0\n",
       "Ridge Regression        5805.960098  5805.960098        6.0       8.0\n",
       "ElasticNet              5813.200838  3995.294570        7.0       6.0\n",
       "Lasso Regression        5817.427519  3998.310203        8.0       7.0\n",
       "SVR                    11865.383643  7418.021381        9.0       9.0"
      ]
     },
     "execution_count": 3,
     "metadata": {},
     "output_type": "execute_result"
    }
   ],
   "source": [
    "results_df['RMSE Rank'] = results_df['RMSE'].rank()\n",
    "results_df['MAE Rank'] = results_df['MAE'].rank()\n",
    "results_df.sort_values('RMSE')"
   ]
  },
  {
   "cell_type": "markdown",
   "id": "5ee948db-0a8b-4a66-b3ca-719075933015",
   "metadata": {},
   "source": [
    "# Plot RMSE & MAE for Visual Comparison"
   ]
  },
  {
   "cell_type": "code",
   "execution_count": 4,
   "id": "3effab7a-1724-43cf-a9e7-1cb646d3b71e",
   "metadata": {},
   "outputs": [
    {
     "data": {
      "image/png": "[encoded data removed]",
      "text/plain": [
       "<Figure size 1000x500 with 2 Axes>"
      ]
     },
     "metadata": {},
     "output_type": "display_data"
    }
   ],
   "source": [
    "plt.figure(figsize=(10, 5))\n",
    "\n",
    "# RMSE Plot\n",
    "plt.subplot(1, 2, 1)\n",
    "sns.barplot(x=results_df.index, y='RMSE', data=results_df)\n",
    "plt.xticks(rotation=90)\n",
    "plt.title(\"Model Comparison - RMSE\")\n",
    "plt.ylabel(\"RMSE\")\n",
    "\n",
    "# MAE Plot\n",
    "plt.subplot(1, 2, 2)\n",
    "sns.barplot(x=results_df.index, y='MAE', data=results_df)\n",
    "plt.xticks(rotation=90)\n",
    "plt.title(\"Model Comparison - MAE\")\n",
    "plt.ylabel(\"MAE\")\n",
    "plt.tight_layout()\n",
    "plt.show()"
   ]
  },
  {
   "cell_type": "markdown",
   "id": "de779327-b6db-440f-9c06-d5ed63919546",
   "metadata": {},
   "source": [
    "### Interpretation of RMSE and MAE Bar Plots\n",
    "* **Random Forest** and **Decision Tree** models had the lowest RMSE and MAE, making them the **most accurate predictors**.\n",
    "* **Polynomial Regression** (degree 2–3) performed fairly well but higher degrees caused overfitting.\n",
    "* **Linear, Ridge, Lasso**, and **ElasticNet** showed **moderate** performance, limited by linear assumptions.\n",
    "* **KNN** Regression was slightly less accurate, possibly due to sensitivity to scaling and sparsity.\n",
    "* **SVR** had the highest errors, suggesting it’s not well-suited for this dataset.\n",
    "\n",
    "**Conclusion:** Tree-based models, especially **Random Forest**, are the most effective for predicting medical insurance costs."
   ]
  }
 ],
 "metadata": {
  "kernelspec": {
   "display_name": "Python 3 (ipykernel)",
   "language": "python",
   "name": "python3"
  },
  "language_info": {
   "codemirror_mode": {
    "name": "ipython",
    "version": 3
   },
   "file_extension": ".py",
   "mimetype": "text/x-python",
   "name": "python",
   "nbconvert_exporter": "python",
   "pygments_lexer": "ipython3",
   "version": "3.13.2"
  }
 },
 "nbformat": 4,
 "nbformat_minor": 5
}
